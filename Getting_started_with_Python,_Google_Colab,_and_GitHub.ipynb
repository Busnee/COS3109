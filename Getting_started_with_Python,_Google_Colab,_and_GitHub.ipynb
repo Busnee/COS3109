{
  "nbformat": 4,
  "nbformat_minor": 0,
  "metadata": {
    "colab": {
      "provenance": [],
      "authorship_tag": "ABX9TyMzkSZNNkrdy1t4+rp/zots",
      "include_colab_link": true
    },
    "kernelspec": {
      "name": "python3",
      "display_name": "Python 3"
    },
    "language_info": {
      "name": "python"
    }
  },
  "cells": [
    {
      "cell_type": "markdown",
      "metadata": {
        "id": "view-in-github",
        "colab_type": "text"
      },
      "source": [
        "<a href=\"https://colab.research.google.com/github/Busnee/COS3109/blob/main/Getting_started_with_Python%2C_Google_Colab%2C_and_GitHub.ipynb\" target=\"_parent\"><img src=\"https://colab.research.google.com/assets/colab-badge.svg\" alt=\"Open In Colab\"/></a>"
      ]
    },
    {
      "cell_type": "markdown",
      "source": [
        "**Example**\n",
        "1. Hello world"
      ],
      "metadata": {
        "id": "SeJhHqCWJl7l"
      }
    },
    {
      "cell_type": "code",
      "execution_count": 1,
      "metadata": {
        "colab": {
          "base_uri": "https://localhost:8080/"
        },
        "id": "b-02-mnTFhoH",
        "outputId": "b8197292-6644-4670-bf28-48bd09fb4aed"
      },
      "outputs": [
        {
          "output_type": "stream",
          "name": "stdout",
          "text": [
            "Hello World\n"
          ]
        }
      ],
      "source": [
        "print(\"Hello World\")"
      ]
    },
    {
      "cell_type": "markdown",
      "source": [
        "2. Function, Conditionals, and Iteration"
      ],
      "metadata": {
        "id": "upbasdHlJsnN"
      }
    },
    {
      "cell_type": "code",
      "source": [
        "def HelloWorldXY(x, y):\n",
        "  if (x < 10):\n",
        "    print(\"Hello World, x was < 10\")\n",
        "  elif (x < 20):\n",
        "    print(\"Hello World, x was >= 10 but < 20\")\n",
        "  else:\n",
        "    print(\"Hello World, x was >= 20\")\n",
        "  return x + y\n",
        "\n",
        "for i in range(8, 25, 5): # i=8, 13, 18, 23 (start, stop, step)\n",
        "  print(\"--- Now running with i: {}\".format(i))\n",
        "  r = HelloWorldXY(i,i)\n",
        "  print(\"Result from HelloWorld: {}\".format(r))"
      ],
      "metadata": {
        "colab": {
          "base_uri": "https://localhost:8080/"
        },
        "id": "48fiSabbF3Yd",
        "outputId": "1fa560d7-f449-44c4-cea8-3c5b16d920be"
      },
      "execution_count": 4,
      "outputs": [
        {
          "output_type": "stream",
          "name": "stdout",
          "text": [
            "--- Now running with i: 8\n",
            "Hello World, x was < 10\n",
            "Result from HelloWorld: 16\n",
            "--- Now running with i: 13\n",
            "Hello World, x was >= 10 but < 20\n",
            "Result from HelloWorld: 26\n",
            "--- Now running with i: 18\n",
            "Hello World, x was >= 10 but < 20\n",
            "Result from HelloWorld: 36\n",
            "--- Now running with i: 23\n",
            "Hello World, x was >= 20\n",
            "Result from HelloWorld: 46\n"
          ]
        }
      ]
    },
    {
      "cell_type": "code",
      "source": [
        "print(HelloWorldXY(1,2))"
      ],
      "metadata": {
        "colab": {
          "base_uri": "https://localhost:8080/"
        },
        "id": "D2SZuWewF818",
        "outputId": "f90b1a8f-bf9d-40b4-f9a8-4a4dde093357"
      },
      "execution_count": 5,
      "outputs": [
        {
          "output_type": "stream",
          "name": "stdout",
          "text": [
            "Hello World, x was < 10\n",
            "3\n"
          ]
        }
      ]
    },
    {
      "cell_type": "markdown",
      "source": [
        "3. Various kinds of loops starting at 0 to 2"
      ],
      "metadata": {
        "id": "WjJcHVtKJvMA"
      }
    },
    {
      "cell_type": "code",
      "source": [
        "print(\"Iterate over the items. `range(2)` is like a list [0,1].\")\n",
        "for i in range(2):\n",
        "  print(i)\n",
        "\n",
        "print(\"Iterate over an actual list.\")\n",
        "for i in [0,1]:\n",
        "  print(i)\n",
        "\n",
        "print(\"While works\")\n",
        "i = 0\n",
        "while i < 2:\n",
        "  print(i)\n",
        "  i += 1"
      ],
      "metadata": {
        "colab": {
          "base_uri": "https://localhost:8080/"
        },
        "id": "RUKhmTgCGKIR",
        "outputId": "3a9838bd-1b82-4b49-878e-a390ace10ddd"
      },
      "execution_count": 6,
      "outputs": [
        {
          "output_type": "stream",
          "name": "stdout",
          "text": [
            "Iterate over the items. `range(2)` is like a list [0,1].\n",
            "0\n",
            "1\n",
            "Iterate over an actual list.\n",
            "0\n",
            "1\n",
            "While works\n",
            "0\n",
            "1\n"
          ]
        }
      ]
    },
    {
      "cell_type": "markdown",
      "source": [
        "4. Numpy and lists\n",
        "\n",
        "  **Numpy** as np is the fundamental package for scientific computing with Python.\n",
        "  \n",
        "  **Lists (Array)** are data structure in Python that is a mutable, or changeable, ordered sequence of elements. Each\n",
        "element or value that is inside of a list is called an item. Just as strings are defined as characters between quotes,\n",
        "lists are defined by having values between square brackets [ ]."
      ],
      "metadata": {
        "id": "XS1EVSFkJynC"
      }
    },
    {
      "cell_type": "code",
      "source": [
        "sea_creatures = ['shark', 'cuttlefish', 'squid', 'mantis shrimp', 'anemone']"
      ],
      "metadata": {
        "id": "BRD9cFj-GQWV"
      },
      "execution_count": 8,
      "outputs": []
    },
    {
      "cell_type": "code",
      "source": [
        "sea_creatures[0] = 'shark'\n",
        "sea_creatures[2] = 'squid'\n",
        "sea_creatures[4] = 'anemone'"
      ],
      "metadata": {
        "id": "xG3hCHipGVLf"
      },
      "execution_count": 9,
      "outputs": []
    },
    {
      "cell_type": "code",
      "source": [
        "import numpy as np # Make numpy available using np.\n",
        "# Create a numpy array, and append an element\n",
        "a = np.array([\"Hello\", \"World\"])\n",
        "a = np.append(a, \"!\")\n",
        "print(\"Current array: {}\".format(a))\n",
        "print(\"Printing each element\")\n",
        "for i in a:\n",
        "  print(i)\n",
        "\n",
        "print(\"\\nPrinting each element and their index\")\n",
        "for i,e in enumerate(a):\n",
        "  print(\"Index: {}, was: {}\".format(i, e))"
      ],
      "metadata": {
        "colab": {
          "base_uri": "https://localhost:8080/"
        },
        "id": "sSQFo8VgGXiF",
        "outputId": "25cd4fcb-b849-4f80-fe89-73859ada8924"
      },
      "execution_count": 11,
      "outputs": [
        {
          "output_type": "stream",
          "name": "stdout",
          "text": [
            "Current array: ['Hello' 'World' '!']\n",
            "Printing each element\n",
            "Hello\n",
            "World\n",
            "!\n",
            "\n",
            "Printing each element and their index\n",
            "Index: 0, was: Hello\n",
            "Index: 1, was: World\n",
            "Index: 2, was: !\n"
          ]
        }
      ]
    },
    {
      "cell_type": "code",
      "source": [
        "print(\"\\nShowing some basic math on arrays\")\n",
        "b = np.array([0,1,4,3,2])\n",
        "print(\"Max: {}\".format(np.max(b)))\n",
        "print(\"Average: {}\".format(np.average(b)))\n",
        "print(\"Max index: {}\".format(np.argmax(b)))"
      ],
      "metadata": {
        "colab": {
          "base_uri": "https://localhost:8080/"
        },
        "id": "cI85tembGZg3",
        "outputId": "118f07d4-8b06-4b89-e36f-b9b31adf5f43"
      },
      "execution_count": 12,
      "outputs": [
        {
          "output_type": "stream",
          "name": "stdout",
          "text": [
            "\n",
            "Showing some basic math on arrays\n",
            "Max: 4\n",
            "Average: 2.0\n",
            "Max index: 2\n"
          ]
        }
      ]
    },
    {
      "cell_type": "code",
      "source": [
        "print(\"\\nYou can print the type of anything\")\n",
        "print(\"Type of b: {}, type of b[0]: {}\".format(type(b), type(b[0])))"
      ],
      "metadata": {
        "colab": {
          "base_uri": "https://localhost:8080/"
        },
        "id": "9LOCRuqbJZru",
        "outputId": "ed3884fc-f220-4b3a-bbfb-598f35ae3ed1"
      },
      "execution_count": 13,
      "outputs": [
        {
          "output_type": "stream",
          "name": "stdout",
          "text": [
            "\n",
            "You can print the type of anything\n",
            "Type of b: <class 'numpy.ndarray'>, type of b[0]: <class 'numpy.int64'>\n"
          ]
        }
      ]
    },
    {
      "cell_type": "code",
      "source": [
        "print(\"\\nUse numpy to create a [3,3] dimension array with random number\")\n",
        "c = np.random.rand(3, 3)\n",
        "print(c)"
      ],
      "metadata": {
        "colab": {
          "base_uri": "https://localhost:8080/"
        },
        "id": "zS_yIEzSJbD-",
        "outputId": "8c2bc043-0d52-48d8-8749-e43e9989b224"
      },
      "execution_count": 14,
      "outputs": [
        {
          "output_type": "stream",
          "name": "stdout",
          "text": [
            "\n",
            "Use numpy to create a [3,3] dimension array with random number\n",
            "[[0.16219641 0.92612023 0.24656844]\n",
            " [0.73945346 0.77492973 0.471846  ]\n",
            " [0.30585382 0.44504752 0.1046904 ]]\n"
          ]
        }
      ]
    },
    {
      "cell_type": "code",
      "source": [
        "print(\"\\nShowing some basic math on arrays\")\n",
        "b = np.array([0,1,4,3,2])\n",
        "print(\"Max: {}\".format(np.max(b)))\n",
        "print(\"Average: {}\".format(np.average(b)))\n",
        "print(\"Max index: {}\".format(np.argmax(b)))"
      ],
      "metadata": {
        "colab": {
          "base_uri": "https://localhost:8080/"
        },
        "id": "xnKwbNUYJdGc",
        "outputId": "92e50914-8b7c-4391-8c5e-21aeb5c369b9"
      },
      "execution_count": 15,
      "outputs": [
        {
          "output_type": "stream",
          "name": "stdout",
          "text": [
            "\n",
            "Showing some basic math on arrays\n",
            "Max: 4\n",
            "Average: 2.0\n",
            "Max index: 2\n"
          ]
        }
      ]
    },
    {
      "cell_type": "code",
      "source": [
        "print(\"\\nYou can print the dimensions of arrays\")\n",
        "print(\"Shape of a: {}\".format(a.shape))\n",
        "print(\"Shape of b: {}\".format(b.shape))\n",
        "print(\"Shape of c: {}\".format(c.shape))"
      ],
      "metadata": {
        "colab": {
          "base_uri": "https://localhost:8080/"
        },
        "id": "VlYfq52OJf_t",
        "outputId": "94cb0b42-613b-4517-b4ab-a489930bf5e9"
      },
      "execution_count": 16,
      "outputs": [
        {
          "output_type": "stream",
          "name": "stdout",
          "text": [
            "\n",
            "You can print the dimensions of arrays\n",
            "Shape of a: (3,)\n",
            "Shape of b: (5,)\n",
            "Shape of c: (3, 3)\n"
          ]
        }
      ]
    },
    {
      "cell_type": "markdown",
      "source": [
        "5. Colab Specifics: to run commands at the VM’s terminal, prefix the line with an exclamation point (!)"
      ],
      "metadata": {
        "id": "9P3lnOZxKM35"
      }
    },
    {
      "cell_type": "code",
      "source": [
        "print(\"\\nDoing $ls on filesystem\")\n",
        "!ls -l\n",
        "!pwd"
      ],
      "metadata": {
        "colab": {
          "base_uri": "https://localhost:8080/"
        },
        "id": "twxwFI6_KQLf",
        "outputId": "8755e5eb-4bd7-4e80-b09c-d92f0c2afa42"
      },
      "execution_count": 17,
      "outputs": [
        {
          "output_type": "stream",
          "name": "stdout",
          "text": [
            "\n",
            "Doing $ls on filesystem\n",
            "total 4\n",
            "drwxr-xr-x 1 root root 4096 Jul 11 13:22 sample_data\n",
            "/content\n"
          ]
        }
      ]
    },
    {
      "cell_type": "code",
      "source": [
        "print(\"Install numpy\") # Just for test, numpy is actually preinstalled in all Colab instancs\n",
        "!pip install numpy"
      ],
      "metadata": {
        "colab": {
          "base_uri": "https://localhost:8080/"
        },
        "id": "VVA3j2kFKP9K",
        "outputId": "8b414042-c7f5-4134-d339-c47e45fe67b3"
      },
      "execution_count": 18,
      "outputs": [
        {
          "output_type": "stream",
          "name": "stdout",
          "text": [
            "Install numpy\n",
            "Requirement already satisfied: numpy in /usr/local/lib/python3.10/dist-packages (1.25.2)\n"
          ]
        }
      ]
    },
    {
      "cell_type": "markdown",
      "source": [
        "**Exercise**\n",
        "1. Colab: Create a code cell underneath this text cell and add code to:\n",
        "- List the path of the current directory (pwd)\n",
        "- Go to / (cd) and list the content (ls-l)"
      ],
      "metadata": {
        "id": "0QEX3wfJKpoJ"
      }
    },
    {
      "cell_type": "code",
      "source": [
        "!pwd"
      ],
      "metadata": {
        "colab": {
          "base_uri": "https://localhost:8080/"
        },
        "id": "Z1iraU37Lwbk",
        "outputId": "5950d65a-b3b2-4b9a-c1bf-af6b78697131"
      },
      "execution_count": 26,
      "outputs": [
        {
          "output_type": "stream",
          "name": "stdout",
          "text": [
            "/content\n"
          ]
        }
      ]
    },
    {
      "cell_type": "code",
      "source": [
        "!cd /"
      ],
      "metadata": {
        "id": "4EFhFLOTL5SJ"
      },
      "execution_count": 27,
      "outputs": []
    },
    {
      "cell_type": "code",
      "source": [
        "!ls -l"
      ],
      "metadata": {
        "colab": {
          "base_uri": "https://localhost:8080/"
        },
        "id": "fjzyh_oHL_dY",
        "outputId": "3b7cfb1e-d1f6-4154-a6c1-8b80884aa8a9"
      },
      "execution_count": 28,
      "outputs": [
        {
          "output_type": "stream",
          "name": "stdout",
          "text": [
            "total 4\n",
            "drwxr-xr-x 1 root root 4096 Jul 11 13:22 sample_data\n",
            "-rw-r--r-- 1 root root    0 Jul 16 15:38 test\n"
          ]
        }
      ]
    },
    {
      "cell_type": "markdown",
      "source": [
        "2. **Python lists without Numpy**: Print the second item in the fruits list:"
      ],
      "metadata": {
        "id": "XyHHYNp9MsuY"
      }
    },
    {
      "cell_type": "code",
      "source": [
        "fruits = [\"apple\", \"banana\", \"cherry\"]\n",
        "print(fruits[1])"
      ],
      "metadata": {
        "colab": {
          "base_uri": "https://localhost:8080/"
        },
        "id": "PR3G09ALMvqI",
        "outputId": "d5ec82a1-4317-4748-9d36-385d052dc554"
      },
      "execution_count": 37,
      "outputs": [
        {
          "output_type": "stream",
          "name": "stdout",
          "text": [
            "banana\n"
          ]
        }
      ]
    },
    {
      "cell_type": "markdown",
      "source": [
        "3. Change the value from “apple” to “kiwi”, in the fruits list:"
      ],
      "metadata": {
        "id": "pUP-PnWNM7pL"
      }
    },
    {
      "cell_type": "code",
      "source": [
        "for i in range(len(fruits)):\n",
        "  if fruits[i] == 'apple':\n",
        "    fruits[i] = 'kiwi'\n",
        "print(fruits)"
      ],
      "metadata": {
        "colab": {
          "base_uri": "https://localhost:8080/"
        },
        "id": "iajsEx24M5xJ",
        "outputId": "11ce9b62-d4ce-4492-a55c-2c331486ed01"
      },
      "execution_count": 38,
      "outputs": [
        {
          "output_type": "stream",
          "name": "stdout",
          "text": [
            "['kiwi', 'banana', 'cherry']\n"
          ]
        }
      ]
    },
    {
      "cell_type": "markdown",
      "source": [
        "4. Use the append method to add “orange” to the fruits list:"
      ],
      "metadata": {
        "id": "D-PlX0hfPA-k"
      }
    },
    {
      "cell_type": "code",
      "source": [
        "fruits.append('orange')\n",
        "print(fruits)"
      ],
      "metadata": {
        "colab": {
          "base_uri": "https://localhost:8080/"
        },
        "id": "RktJtmUjN4eT",
        "outputId": "95497441-d3de-47ec-b771-cad81f60160e"
      },
      "execution_count": 39,
      "outputs": [
        {
          "output_type": "stream",
          "name": "stdout",
          "text": [
            "['kiwi', 'banana', 'cherry', 'orange']\n"
          ]
        }
      ]
    },
    {
      "cell_type": "markdown",
      "source": [
        "5. Use the insert method to add “lemon” as the second item in the fruits list:"
      ],
      "metadata": {
        "id": "TK5LEUbSPMOW"
      }
    },
    {
      "cell_type": "code",
      "source": [
        "fruits.insert(1,'lemon')\n",
        "print(fruits)"
      ],
      "metadata": {
        "colab": {
          "base_uri": "https://localhost:8080/"
        },
        "id": "7RVkC99VPKlk",
        "outputId": "76d6be15-71d9-488b-f461-2bf6cc5165a1"
      },
      "execution_count": 40,
      "outputs": [
        {
          "output_type": "stream",
          "name": "stdout",
          "text": [
            "['kiwi', 'lemon', 'banana', 'cherry', 'orange']\n"
          ]
        }
      ]
    },
    {
      "cell_type": "markdown",
      "source": [
        "6. Use the remove method to delete “banana” from the fruits list:"
      ],
      "metadata": {
        "id": "KwqDOkFaPb0B"
      }
    },
    {
      "cell_type": "code",
      "source": [
        "fruits.remove('banana')\n",
        "print(fruits)"
      ],
      "metadata": {
        "colab": {
          "base_uri": "https://localhost:8080/"
        },
        "id": "kT05RW_8PajO",
        "outputId": "c5273b58-1edf-46c7-9761-20d26cfcbdc6"
      },
      "execution_count": 41,
      "outputs": [
        {
          "output_type": "stream",
          "name": "stdout",
          "text": [
            "['kiwi', 'lemon', 'cherry', 'orange']\n"
          ]
        }
      ]
    },
    {
      "cell_type": "markdown",
      "source": [
        "7. Python If...Else: Print “Hello World” if a is greater than b:"
      ],
      "metadata": {
        "id": "-BgbI121PlV-"
      }
    },
    {
      "cell_type": "code",
      "source": [
        "a = 50\n",
        "b = 10\n",
        "c = 20\n",
        "d = 20\n",
        "if (a > b) :\n",
        "  print('Hello World')"
      ],
      "metadata": {
        "colab": {
          "base_uri": "https://localhost:8080/"
        },
        "id": "iGQ9RLPjPdi8",
        "outputId": "bf64293b-f609-409e-dab9-cf06c0226c56"
      },
      "execution_count": 42,
      "outputs": [
        {
          "output_type": "stream",
          "name": "stdout",
          "text": [
            "Hello World\n"
          ]
        }
      ]
    },
    {
      "cell_type": "markdown",
      "source": [
        "9. Print “Yes” if a is equal to b, otherwise print “No”:"
      ],
      "metadata": {
        "id": "eMghx-A6P-52"
      }
    },
    {
      "cell_type": "code",
      "source": [
        "if (a == b):\n",
        "  print('Yes')\n",
        "else :\n",
        "  print('No')"
      ],
      "metadata": {
        "colab": {
          "base_uri": "https://localhost:8080/"
        },
        "id": "pMPXaInRQApP",
        "outputId": "c1063961-b6a2-4f4e-c595-1a6971cec219"
      },
      "execution_count": 43,
      "outputs": [
        {
          "output_type": "stream",
          "name": "stdout",
          "text": [
            "No\n"
          ]
        }
      ]
    },
    {
      "cell_type": "markdown",
      "source": [
        "10. Print “1” if a is equal to b, print “2” if a is greater than b, otherwise print “3”:"
      ],
      "metadata": {
        "id": "N54YpsqoQL3D"
      }
    },
    {
      "cell_type": "code",
      "source": [
        "if (a == b):\n",
        "  print(1)\n",
        "elif (a > b):\n",
        "  print(2)\n",
        "else:\n",
        "  print(3)"
      ],
      "metadata": {
        "colab": {
          "base_uri": "https://localhost:8080/"
        },
        "id": "O2CFstPOQNb7",
        "outputId": "f344d3ff-6cb2-4845-d658-4ba1d14ae36a"
      },
      "execution_count": 44,
      "outputs": [
        {
          "output_type": "stream",
          "name": "stdout",
          "text": [
            "2\n"
          ]
        }
      ]
    },
    {
      "cell_type": "markdown",
      "source": [
        "11. Print “Hello” if a is equal to b, and c is equal to d:"
      ],
      "metadata": {
        "id": "nr3jLkf4QcMO"
      }
    },
    {
      "cell_type": "code",
      "source": [
        "if (a == b) and (c == d):\n",
        "  print('Hello')"
      ],
      "metadata": {
        "id": "KzWZPQiHQd_R"
      },
      "execution_count": 45,
      "outputs": []
    },
    {
      "cell_type": "markdown",
      "source": [
        "12. Print “Hello” if either a is equal to b, or c is equal to d:"
      ],
      "metadata": {
        "id": "xUIp5IwYQlqF"
      }
    },
    {
      "cell_type": "code",
      "source": [
        "if (a == b) or (c == d):\n",
        "  print('Hello')"
      ],
      "metadata": {
        "colab": {
          "base_uri": "https://localhost:8080/"
        },
        "id": "lj-4tKWSQnJt",
        "outputId": "0e66b729-5ca0-449f-e79a-7df09c5af8d0"
      },
      "execution_count": 46,
      "outputs": [
        {
          "output_type": "stream",
          "name": "stdout",
          "text": [
            "Hello\n"
          ]
        }
      ]
    },
    {
      "cell_type": "markdown",
      "source": [
        "13. Python Loops: Print i as long as i is less than 6:"
      ],
      "metadata": {
        "id": "d3JhxyV_Qrxw"
      }
    },
    {
      "cell_type": "code",
      "source": [
        "for i in range(6):\n",
        "  print(i)"
      ],
      "metadata": {
        "colab": {
          "base_uri": "https://localhost:8080/"
        },
        "id": "OpRfDzesQtXS",
        "outputId": "e1678fe5-eb52-4266-a53b-0f1119621f61"
      },
      "execution_count": 47,
      "outputs": [
        {
          "output_type": "stream",
          "name": "stdout",
          "text": [
            "0\n",
            "1\n",
            "2\n",
            "3\n",
            "4\n",
            "5\n"
          ]
        }
      ]
    },
    {
      "cell_type": "markdown",
      "source": [
        "14. From #13 stop the loop if i is 3:"
      ],
      "metadata": {
        "id": "xfwYzHJaQ1di"
      }
    },
    {
      "cell_type": "code",
      "source": [
        "for i in range(6):\n",
        "  if (i == 3):\n",
        "    break\n",
        "  print(i)"
      ],
      "metadata": {
        "colab": {
          "base_uri": "https://localhost:8080/"
        },
        "id": "zx1Yv6PhQ3c2",
        "outputId": "0bacd769-fe2f-4c1a-ef7e-ec4c101ebefb"
      },
      "execution_count": 48,
      "outputs": [
        {
          "output_type": "stream",
          "name": "stdout",
          "text": [
            "0\n",
            "1\n",
            "2\n"
          ]
        }
      ]
    }
  ]
}